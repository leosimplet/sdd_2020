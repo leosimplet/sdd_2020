{
 "cells": [
  {
   "cell_type": "markdown",
   "metadata": {},
   "source": [
    "## Génération de figures pour le chapitre « Généralisation »."
   ]
  },
  {
   "cell_type": "code",
   "execution_count": null,
   "metadata": {},
   "outputs": [],
   "source": [
    "%pylab inline"
   ]
  },
  {
   "cell_type": "code",
   "execution_count": null,
   "metadata": {},
   "outputs": [],
   "source": [
    "plt.rc('font', **{'family':'sans', 'size': 24})\n",
    "\n",
    "matplotlib.rcParams.update({\n",
    "    'text.usetex': True,\n",
    "    'text.latex.preamble': [r'\\usepackage{mathptmx}',r'\\usepackage{amsmath}', r'\\usepackage{amssymb}',]})"
   ]
  },
  {
   "cell_type": "code",
   "execution_count": null,
   "metadata": {},
   "outputs": [],
   "source": [
    "prop_cycle = plt.rcParams['axes.prop_cycle']\n",
    "def_colors = prop_cycle.by_key()['color']"
   ]
  },
  {
   "cell_type": "markdown",
   "metadata": {},
   "source": [
    "## Overfitting (classification)"
   ]
  },
  {
   "cell_type": "code",
   "execution_count": null,
   "metadata": {},
   "outputs": [],
   "source": [
    "X = np.loadtxt('classif_X.csv')\n",
    "y = np.loadtxt('classif_y.csv')"
   ]
  },
  {
   "cell_type": "code",
   "execution_count": null,
   "metadata": {},
   "outputs": [],
   "source": [
    "pos = np.where(y>0)[0]\n",
    "neg = np.where(y<=0)[0]"
   ]
  },
  {
   "cell_type": "code",
   "execution_count": null,
   "metadata": {},
   "outputs": [],
   "source": [
    "from sklearn import svm"
   ]
  },
  {
   "cell_type": "code",
   "execution_count": null,
   "metadata": {},
   "outputs": [],
   "source": [
    "clf = svm.SVC(kernel = 'rbf',  gamma=2.7, C=10.)\n",
    "clf.fit(X, y)\n",
    "\n",
    "h = .01  # step size in the mesh\n",
    "# create a mesh to plot in\n",
    "x_min, x_max = X[:, 0].min() - 1, X[:, 0].max() + 1\n",
    "y_min, y_max = X[:, 1].min() - 1, X[:, 1].max() + 1\n",
    "xx, yy = np.meshgrid(np.arange(x_min, x_max, h),\n",
    "                     np.arange(y_min, y_max, h))\n",
    "\n",
    "# Plot the decision boundary. For that, we will assign a color to each\n",
    "# point in the mesh [x_min, m_max]x[y_min, y_max].\n",
    "Z = clf.predict(np.c_[xx.ravel(), yy.ravel()])\n",
    "\n",
    "# Put the result into a color plot\n",
    "Z = Z.reshape(xx.shape)"
   ]
  },
  {
   "cell_type": "code",
   "execution_count": null,
   "metadata": {},
   "outputs": [],
   "source": [
    "clf2 = svm.SVC(kernel = 'rbf',  gamma=.1, C=10.)\n",
    "clf2.fit(X, y)\n",
    "\n",
    "# Plot the decision boundary. For that, we will assign a color to each\n",
    "# point in the mesh [x_min, m_max]x[y_min, y_max].\n",
    "Z2 = clf2.predict(np.c_[xx.ravel(), yy.ravel()])\n",
    "\n",
    "# Put the result into a color plot\n",
    "Z2 = Z2.reshape(xx.shape)"
   ]
  },
  {
   "cell_type": "code",
   "execution_count": null,
   "metadata": {},
   "outputs": [],
   "source": [
    "fig = plt.figure(figsize=(8, 8))\n",
    "plt.scatter(X[pos, 0], X[pos, 1], marker='x', s=162)\n",
    "plt.scatter(X[neg, 0], X[neg, 1], marker='+', s=162)\n",
    "\n",
    "plt.plot([-5, 4.5], [1, -2], \"-\", lw=4, color=def_colors[5]) \n",
    "plt.contour(xx, yy, Z, linewidths=4, linestyles=\":\", colors=def_colors[3])\n",
    "plt.contour(xx, yy, Z2, linewidths=4, linestyles=\"--\", colors=def_colors[4])\n",
    "\n",
    "#sepx = np.array([-5, -3, -1.5, -1, -0.5, 0, 0.4, -0.8, -1, -0.6, -0.5, -0.45, 2, 4])\n",
    "#sepy = np.array([2, 1, 0.5, 0, 0, -0.4, 0, 1.5, 3, 3.2, 3, 2.3, 0, -2])\n",
    "#plt.plot(sepx, sepy, \"-.\", lw=3, color=def_colors[4]) \n",
    "\n",
    "plt.xlim([-4.2, 4.2])\n",
    "plt.ylim([-4.8, 4.2])\n",
    "plt.axis('off')\n",
    "\n",
    "plt.savefig('../poly/figures/generalisation/overfit_class.pdf', bbox_inches='tight')"
   ]
  },
  {
   "cell_type": "markdown",
   "metadata": {},
   "source": [
    "## Overfitting (régression)"
   ]
  },
  {
   "cell_type": "code",
   "execution_count": null,
   "metadata": {},
   "outputs": [],
   "source": [
    "from sklearn.preprocessing import PolynomialFeatures\n",
    "from sklearn.linear_model import Ridge, LinearRegression"
   ]
  },
  {
   "cell_type": "code",
   "execution_count": null,
   "metadata": {},
   "outputs": [],
   "source": [
    "xvals = np.linspace(-3, 3, 100)\n",
    "#keep = range(100)\n",
    "#rng = np.random.RandomState(1)\n",
    "#rng.shuffle(keep)\n",
    "#xvals_tr = np.sort(xvals[keep[:20]])\n",
    "#print keep[:20]\n",
    "#yvals_tr = 0.5 + 0.1*xvals_tr - 0.6*xvals_tr**2 - 0.5*xvals_tr**3 + 2.*rng.rand(20)\n",
    "\n",
    "xvals_tr = np.random.sample(size=(20, ))*6.-3.\n",
    "\n",
    "yvals_tr = 0.5 + 0.1*xvals_tr - 0.6*xvals_tr**2 - 0.5*xvals_tr**3 + \\\n",
    "    0.3*np.random.normal(size=(20, ))"
   ]
  },
  {
   "cell_type": "code",
   "execution_count": null,
   "metadata": {},
   "outputs": [],
   "source": [
    "# Linear\n",
    "model_1 = Ridge()\n",
    "model_1.fit(xvals_tr.reshape(-1, 1), yvals_tr)\n",
    "yvals_1 = model_1.predict(xvals.reshape(-1, 1))\n",
    "\n",
    "\n",
    "# Quadratic\n",
    "poly = PolynomialFeatures(degree=2)\n",
    "xvals_tr2 = poly.fit_transform(xvals_tr.reshape(-1, 1))\n",
    "xvals_2 = poly.fit_transform(xvals.reshape(-1, 1))\n",
    "\n",
    "model_2 = Ridge()\n",
    "model_2.fit(xvals_tr2, yvals_tr)\n",
    "yvals_2 = model_2.predict(xvals_2)\n",
    "\n",
    "\n",
    "# Degree 3\n",
    "poly = PolynomialFeatures(degree=3)\n",
    "xvals_tr3 = poly.fit_transform(xvals_tr.reshape(-1, 1))\n",
    "xvals_3 = poly.fit_transform(xvals.reshape(-1, 1))\n",
    "\n",
    "model_3 = LinearRegression()\n",
    "model_3.fit(xvals_tr3, yvals_tr)\n",
    "yvals_3 = model_3.predict(xvals_3)\n",
    "\n",
    "\n",
    "# Degree 13\n",
    "poly = PolynomialFeatures(degree=13)\n",
    "xvals_tr13 = poly.fit_transform(xvals_tr.reshape(-1, 1))\n",
    "xvals_13 = poly.fit_transform(xvals.reshape(-1, 1))\n",
    "\n",
    "model_13 = LinearRegression()\n",
    "model_13.fit(xvals_tr13, yvals_tr)\n",
    "yvals_13 = model_13.predict(xvals_13)"
   ]
  },
  {
   "cell_type": "code",
   "execution_count": null,
   "metadata": {},
   "outputs": [],
   "source": [
    "fig, ax = plt.subplots(figsize=(7, 7))\n",
    "\n",
    "plt.scatter(xvals_tr, yvals_tr, marker='o', facecolor='w', edgecolor='k', lw=2, s=162)\n",
    "\n",
    "plt.plot(xvals, yvals_3, lw=4, ls = '--', label='d = 3')\n",
    "plt.plot(xvals, yvals_2, lw=4, ls = ':', label='d = 2')\n",
    "plt.plot(xvals, yvals_13, lw=4, ls = '-', label='d = 13')\n",
    "\n",
    "plt.ylim([-15.5, 6.])\n",
    "plt.xlim(-2.75, 3.01)\n",
    "# xticks\n",
    "majorLocator = MultipleLocator(1)\n",
    "majorFormatter = FormatStrFormatter('%.1f')\n",
    "ax.xaxis.set_major_locator(majorLocator)\n",
    "ax.xaxis.set_major_formatter(majorFormatter)\n",
    "ax.tick_params(labelsize=18)\n",
    "\n",
    "# yticks\n",
    "majorLocator = MultipleLocator(10.)\n",
    "majorFormatter = FormatStrFormatter('%.1f')\n",
    "#ax.yaxis.set_major_locator(majorLocator)\n",
    "#ax.yaxis.set_major_formatter(majorFormatter)\n",
    "\n",
    "# Labels\n",
    "plt.xlabel(\"$x$\")\n",
    "plt.ylabel(\"$f(x)$\")\n",
    "\n",
    "# Legend\n",
    "lg = plt.legend(loc=(0.6, 0.6), frameon=False)\n",
    "plt.savefig('../poly/figures/generalisation/overfit_regr.pdf', bbox_inches='tight')"
   ]
  },
  {
   "cell_type": "markdown",
   "metadata": {},
   "source": [
    "## ROC curves"
   ]
  },
  {
   "cell_type": "code",
   "execution_count": null,
   "metadata": {},
   "outputs": [],
   "source": [
    "from sklearn import datasets, model_selection, metrics"
   ]
  },
  {
   "cell_type": "code",
   "execution_count": null,
   "metadata": {},
   "outputs": [],
   "source": [
    "import pandas as pd\n",
    "data = pd.read_csv('../data/winequality-white.csv', sep=\";\")"
   ]
  },
  {
   "cell_type": "code",
   "execution_count": null,
   "metadata": {},
   "outputs": [],
   "source": [
    "X = data[data.columns[:-1]].values\n",
    "y = data['quality'].values\n",
    "y = np.where(y<6, 0, 1)"
   ]
  },
  {
   "cell_type": "code",
   "execution_count": null,
   "metadata": {},
   "outputs": [],
   "source": [
    "X_train, X_test, y_train, y_test = \\\n",
    "    model_selection.train_test_split(X, y, test_size=0.3)"
   ]
  },
  {
   "cell_type": "code",
   "execution_count": null,
   "metadata": {},
   "outputs": [],
   "source": [
    "from sklearn import ensemble\n",
    "clf = ensemble.RandomForestClassifier(n_estimators=50)"
   ]
  },
  {
   "cell_type": "code",
   "execution_count": null,
   "metadata": {},
   "outputs": [],
   "source": [
    "clf.fit(X_train, y_train)"
   ]
  },
  {
   "cell_type": "code",
   "execution_count": null,
   "metadata": {},
   "outputs": [],
   "source": [
    "ypred = clf.predict_proba(X_test)\n",
    "fpr, tpr, thr = metrics.roc_curve(y_test, ypred[:, 1])\n",
    "prec, rec, thr = metrics.precision_recall_curve(y_test, ypred[:, 1])"
   ]
  },
  {
   "cell_type": "code",
   "execution_count": null,
   "metadata": {},
   "outputs": [],
   "source": [
    "from sklearn import linear_model\n",
    "clf1 = linear_model.RidgeClassifier(fit_intercept=True)"
   ]
  },
  {
   "cell_type": "code",
   "execution_count": null,
   "metadata": {},
   "outputs": [],
   "source": [
    "clf1.fit(X_train, y_train)\n",
    "ypred1 = clf1.decision_function(X_test)\n",
    "fpr1, tpr1, thr1 = metrics.roc_curve(y_test, ypred1)\n",
    "prec1, rec1, thr1 = metrics.precision_recall_curve(y_test, ypred1)"
   ]
  },
  {
   "cell_type": "code",
   "execution_count": null,
   "metadata": {},
   "outputs": [],
   "source": [
    "fig, ax = plt.subplots(figsize=(6, 6))\n",
    "\n",
    "plt.plot(fpr1, tpr1, lw=3, ls='--', label=u'Mod\\`ele 1')\n",
    "plt.plot(fpr, tpr, lw=3, label=u'Mod\\`ele 2')\n",
    "\n",
    "plt.xlabel(\"FPR\", fontsize=24)\n",
    "plt.ylabel(\"TPR\", fontsize=24)\n",
    "\n",
    "l = plt.legend(loc=(0.5, 0.5), frameon=False)#, fontsize=20)\n",
    "plt.savefig('../poly/figures/generalisation/roc_curve.pdf', bbox_inches='tight')"
   ]
  },
  {
   "cell_type": "markdown",
   "metadata": {},
   "source": [
    "## Regularisation paths"
   ]
  },
  {
   "cell_type": "markdown",
   "metadata": {},
   "source": [
    "### UCI Crime data"
   ]
  },
  {
   "cell_type": "code",
   "execution_count": null,
   "metadata": {},
   "outputs": [],
   "source": [
    "# read in the dataset\n",
    "import pandas as pd\n",
    "url = 'http://archive.ics.uci.edu/ml/machine-learning-databases/communities/communities.data'"
   ]
  },
  {
   "cell_type": "code",
   "execution_count": null,
   "metadata": {},
   "outputs": [],
   "source": [
    "# if not behind proxy\n",
    "crime = pd.read_csv(url, header=None, na_values=['?'])"
   ]
  },
  {
   "cell_type": "code",
   "execution_count": null,
   "metadata": {},
   "outputs": [],
   "source": [
    "crime.head()"
   ]
  },
  {
   "cell_type": "code",
   "execution_count": null,
   "metadata": {},
   "outputs": [],
   "source": [
    "# remove categorical features\n",
    "crime.drop([0, 1, 2, 3, 4], axis=1, inplace=True)"
   ]
  },
  {
   "cell_type": "code",
   "execution_count": null,
   "metadata": {},
   "outputs": [],
   "source": [
    "# remove rows with any missing values\n",
    "crime.dropna(inplace=True)"
   ]
  },
  {
   "cell_type": "code",
   "execution_count": null,
   "metadata": {},
   "outputs": [],
   "source": [
    "# only keep first 12 variables\n",
    "X = crime.iloc[:, 0:12]\n",
    "y = crime[123]"
   ]
  },
  {
   "cell_type": "code",
   "execution_count": null,
   "metadata": {},
   "outputs": [],
   "source": [
    "X = np.array(X)\n",
    "y = np.array(y)\n",
    "print(type(X))"
   ]
  },
  {
   "cell_type": "code",
   "execution_count": null,
   "metadata": {},
   "outputs": [],
   "source": [
    "X_train = X[:200, :]\n",
    "y_train = y[:200]\n",
    "X_test = X[200:, :]\n",
    "y_test = y[200:]"
   ]
  },
  {
   "cell_type": "markdown",
   "metadata": {},
   "source": [
    "### Ridge"
   ]
  },
  {
   "cell_type": "code",
   "execution_count": null,
   "metadata": {},
   "outputs": [],
   "source": [
    "n_alphas = 200\n",
    "alphas = np.logspace(-2, 2, n_alphas)"
   ]
  },
  {
   "cell_type": "code",
   "execution_count": null,
   "metadata": {},
   "outputs": [],
   "source": [
    "from sklearn import linear_model"
   ]
  },
  {
   "cell_type": "code",
   "execution_count": null,
   "metadata": {},
   "outputs": [],
   "source": [
    "ridge = linear_model.Ridge(normalize=True)"
   ]
  },
  {
   "cell_type": "code",
   "execution_count": null,
   "metadata": {},
   "outputs": [],
   "source": [
    "coefs = []\n",
    "errors = []\n",
    "for a in alphas:\n",
    "    ridge.set_params(alpha=a)\n",
    "    ridge.fit(X_train, y_train)\n",
    "    coefs.append(ridge.coef_)\n",
    "    errors.append(np.mean((ridge.predict(X_test) - y_test) ** 2))"
   ]
  },
  {
   "cell_type": "code",
   "execution_count": null,
   "metadata": {},
   "outputs": [],
   "source": [
    "cmap=plt.get_cmap('Paired')\n",
    "my_colors = [cmap(i) for i in np.linspace(0, 1, 12)]"
   ]
  },
  {
   "cell_type": "code",
   "execution_count": null,
   "metadata": {},
   "outputs": [],
   "source": [
    "my_lws = list(np.tile([1, 2, 3], 4))\n",
    "my_lss = list(np.tile(['-', '--', '-.', ':'], 3))"
   ]
  },
  {
   "cell_type": "code",
   "execution_count": null,
   "metadata": {},
   "outputs": [],
   "source": [
    "# without colors\n",
    "plt.rcParams['axes.prop_cycle'] = (\"cycler('lw', %s) + \"\n",
    "                                   \"cycler('ls', %s)\" % (my_lws, \n",
    "                                                         my_lss))"
   ]
  },
  {
   "cell_type": "code",
   "execution_count": null,
   "metadata": {},
   "outputs": [],
   "source": [
    "fig = plt.figure(figsize=(7, 7))\n",
    "ax = fig.add_subplot(1, 1, 1)\n",
    "\n",
    "ax.plot(alphas, coefs)\n",
    "ax.set_xscale('log')\n",
    "\n",
    "plt.xlabel('$\\lambda$')\n",
    "plt.ylabel('coefficients')\n",
    "\n",
    "plt.savefig('../poly/figures/generalisation/ridge_path.pdf', bbox_inches='tight')"
   ]
  },
  {
   "cell_type": "code",
   "execution_count": null,
   "metadata": {},
   "outputs": [],
   "source": [
    "ax = plt.gca()\n",
    "\n",
    "ax.plot(alphas, errors)\n",
    "ax.set_xscale('log')\n",
    "plt.xlabel('alpha')\n",
    "plt.ylabel('error')\n",
    "plt.axis('tight')\n",
    "plt.show()"
   ]
  },
  {
   "cell_type": "markdown",
   "metadata": {},
   "source": [
    "## Lasso "
   ]
  },
  {
   "cell_type": "code",
   "execution_count": null,
   "metadata": {},
   "outputs": [],
   "source": [
    "lasso = linear_model.Lasso(fit_intercept=True, normalize=True)"
   ]
  },
  {
   "cell_type": "code",
   "execution_count": null,
   "metadata": {},
   "outputs": [],
   "source": [
    "n_alphas = 5\n",
    "alphas = np.logspace(-5, -1.5, n_alphas)"
   ]
  },
  {
   "cell_type": "code",
   "execution_count": null,
   "metadata": {},
   "outputs": [],
   "source": [
    "coefs_l = []\n",
    "for a in alphas:\n",
    "    lasso.set_params(alpha=a)\n",
    "    lasso.fit(X_train, y_train)\n",
    "    coefs_l.append(lasso.coef_)"
   ]
  },
  {
   "cell_type": "code",
   "execution_count": null,
   "metadata": {},
   "outputs": [],
   "source": [
    "my_lws = list(np.tile([1, 2, 3], 4))\n",
    "my_lss = list(np.tile(['-', '--', '-.', ':'], 3))"
   ]
  },
  {
   "cell_type": "code",
   "execution_count": null,
   "metadata": {},
   "outputs": [],
   "source": [
    "# without colors\n",
    "plt.rcParams['axes.prop_cycle'] = (\"cycler('lw', %s) + \"\n",
    "                                   \"cycler('ls', %s)\" % (my_lws, \n",
    "                                                         my_lss))"
   ]
  },
  {
   "cell_type": "code",
   "execution_count": null,
   "metadata": {},
   "outputs": [],
   "source": [
    "fig = plt.figure(figsize=(7, 7))\n",
    "ax = fig.add_subplot(1, 1, 1)\n",
    "\n",
    "ax.plot(alphas, coefs_l)\n",
    "ax.set_xscale('log')\n",
    "\n",
    "plt.xlabel('$\\lambda$')\n",
    "plt.ylabel('coefficients')\n",
    "\n",
    "plt.savefig('../poly/figures/generalisation/lasso_path.pdf', bbox_inches='tight')"
   ]
  },
  {
   "cell_type": "markdown",
   "metadata": {},
   "source": [
    "## Geometry of regularization"
   ]
  },
  {
   "cell_type": "code",
   "execution_count": null,
   "metadata": {},
   "outputs": [],
   "source": [
    "X = np.random.random(size=(50, 2))\n",
    "beta = np.array([-0.5, 2.])\n",
    "y = np.dot(X, beta) + 0.1*np.random.random(size=(50, ))"
   ]
  },
  {
   "cell_type": "code",
   "execution_count": null,
   "metadata": {},
   "outputs": [],
   "source": [
    "def f(b1, b2):\n",
    "    return np.sum((np.dot(X, np.array([b1, b2]))-y)**2)"
   ]
  },
  {
   "cell_type": "code",
   "execution_count": null,
   "metadata": {},
   "outputs": [],
   "source": [
    "a = np.linspace(-3.5, 3.5, 200)\n",
    "b = np.linspace(-3.5, 3.5, 200)\n",
    "A, B = np.meshgrid(a, b)"
   ]
  },
  {
   "cell_type": "code",
   "execution_count": null,
   "metadata": {},
   "outputs": [],
   "source": [
    "fab = np.array([[f(A[i, j], B[i, j]) for j in range(A.shape[1])] \\\n",
    "    for i in range(A.shape[0])])"
   ]
  },
  {
   "cell_type": "code",
   "execution_count": null,
   "metadata": {},
   "outputs": [],
   "source": [
    "np.min(fab)"
   ]
  },
  {
   "cell_type": "code",
   "execution_count": null,
   "metadata": {},
   "outputs": [],
   "source": [
    "import matplotlib.patches as patches"
   ]
  },
  {
   "cell_type": "markdown",
   "metadata": {},
   "source": [
    "### L1 norm"
   ]
  },
  {
   "cell_type": "code",
   "execution_count": null,
   "metadata": {},
   "outputs": [],
   "source": [
    "fig = plt.figure(figsize=(7, 7))\n",
    "ax = fig.add_subplot(1, 1, 1)\n",
    "\n",
    "# Redefine axis range\n",
    "plt.xlim([-2., 3.5])\n",
    "plt.ylim([-2., 3.5])\n",
    "\n",
    "# Move left y-axis and bottom x-axis to centre, passing through (0,0)\n",
    "ax.spines['left'].set_position(('axes', 2./5.5))\n",
    "ax.spines['bottom'].set_position(('axes', 2./5.5))\n",
    "\n",
    "# Eliminate upper and right axes\n",
    "ax.spines['right'].set_color('none')\n",
    "ax.spines['top'].set_color('none')\n",
    "\n",
    "# Ticks\n",
    "#ax.tick_params(labelsize=16)\n",
    "plt.xticks([], [])\n",
    "plt.yticks([], [])\n",
    "\n",
    "# Axes labels\n",
    "ax.text(3.5, 0, r'$\\beta_1$')\n",
    "#ax.text(0, 3.5, u'$β_2$', fontsize=20)\n",
    "ax.text(0, 3.5, r'$\\beta_2$')\n",
    "\n",
    "#plt.contourf(A, B, fab, 20, alpha=.75, cmap=plt.cm.hot)\n",
    "#C = plt.contour(A, B, fab, 4, colors='black', linewidth=.5)\n",
    "C = ax.contour(A, B, fab, [0.1, 0.5, 4., 9.5], \n",
    "               colors=def_colors[1])\n",
    "#plt.clabel(C, inline=1, fontsize=10)\n",
    "\n",
    "r = ax.add_patch(patches.Rectangle((0., -1.), np.sqrt(2), np.sqrt(2), \n",
    "                               angle=45., lw=3, \n",
    "                                   color=def_colors[0], alpha=0.5))\n",
    "ax.scatter([0.], [1.], s=182, marker='x', lw=3, color=def_colors[2])\n",
    "\n",
    "ax.text(0.15, 2.4, r'$(y - (\\beta_1 \\, x_1 + \\beta_2 \\, x_2))^2 = C$', \n",
    "        color=def_colors[1])\n",
    "ax.text(0.8, 0.4, r'$|\\beta_1|+|\\beta_2| \\leq t$', \n",
    "        color=def_colors[0])\n",
    "\n",
    "ax.arrow(2, 1, -1.65, -0., head_width=0.2, \n",
    "         head_length=0.2, fc=def_colors[2], ec=def_colors[2])\n",
    "ax.text(2.1, 0.95, 'solution sous contrainte', \n",
    "        color=def_colors[2])\n",
    "\n",
    "ax.arrow(1.45, 2.05, -1.65, -0., head_width=0.2, \n",
    "         head_length=0.2, fc=def_colors[1], ec=def_colors[1])\n",
    "ax.text(1.5, 2., 'solution sans contrainte', \n",
    "        color=def_colors[1])\n",
    "plt.savefig('../poly/figures/generalisation/l1reg.pdf', bbox_inches='tight')"
   ]
  },
  {
   "cell_type": "markdown",
   "metadata": {},
   "source": [
    "### L2 norm"
   ]
  },
  {
   "cell_type": "code",
   "execution_count": null,
   "metadata": {},
   "outputs": [],
   "source": [
    "fig = plt.figure(figsize=(7, 7))\n",
    "ax = fig.add_subplot(1, 1, 1)\n",
    "\n",
    "# Redefine axis range\n",
    "plt.xlim([-2., 3.5])\n",
    "plt.ylim([-2., 3.5])\n",
    "\n",
    "# Move left y-axis and bottom x-axis to centre, passing through (0,0)\n",
    "ax.spines['left'].set_position(('axes', 2./5.5))\n",
    "ax.spines['bottom'].set_position(('axes', 2./5.5))\n",
    "\n",
    "# Eliminate upper and right axes\n",
    "ax.spines['right'].set_color('none')\n",
    "ax.spines['top'].set_color('none')\n",
    "\n",
    "# Ticks\n",
    "plt.xticks([], [])\n",
    "plt.yticks([], [])\n",
    "\n",
    "# Axes labels\n",
    "ax.text(3.5, 0, r'$\\beta_1$')\n",
    "ax.text(0, 3.5, r'$\\beta_2$')\n",
    "\n",
    "\n",
    "C = ax.contour(A, B, fab, [0.1, 0.5, 4., 8.], \n",
    "               colors=def_colors[1])\n",
    "c = ax.add_patch(patches.Circle((0., 0.), 1., \n",
    "                               angle=45., lw=3, \n",
    "                               color=def_colors[0], alpha=0.5))\n",
    "\n",
    "ax.scatter([0.2], [1.], marker='x', lw=3, s=182, color=def_colors[2])\n",
    "\n",
    "ax.text(0.15, 2.4, r'$(y - (\\beta_1 x_1 + \\beta_2 x_2))^2 = C$', \n",
    "        color=def_colors[1])\n",
    "ax.text(1., 0.4, r'$\\beta_1^2 + \\beta_2^2 \\leq t^2$', \n",
    "        color=def_colors[0])\n",
    "\n",
    "ax.arrow(2, 1, -1.45, -0., head_width=0.2, \n",
    "         head_length=0.2, fc=def_colors[2], ec=def_colors[2])\n",
    "ax.text(2.1, 0.95, u'solution sous contrainte', \n",
    "        color=def_colors[2])\n",
    "\n",
    "ax.arrow(1.45, 2.05, -1.65, -0., head_width=0.2, \n",
    "         head_length=0.2, fc=def_colors[1], ec=def_colors[1])\n",
    "ax.text(1.5, 2., u'solution sans contrainte', \n",
    "        color=def_colors[1])\n",
    "plt.savefig('../poly/figures/generalisation/l2reg.pdf', bbox_inches='tight')"
   ]
  },
  {
   "cell_type": "code",
   "execution_count": null,
   "metadata": {},
   "outputs": [],
   "source": []
  }
 ],
 "metadata": {
  "kernelspec": {
   "display_name": "Python 3",
   "language": "python",
   "name": "python3"
  },
  "language_info": {
   "codemirror_mode": {
    "name": "ipython",
    "version": 3
   },
   "file_extension": ".py",
   "mimetype": "text/x-python",
   "name": "python",
   "nbconvert_exporter": "python",
   "pygments_lexer": "ipython3",
   "version": "3.7.7"
  }
 },
 "nbformat": 4,
 "nbformat_minor": 4
}
