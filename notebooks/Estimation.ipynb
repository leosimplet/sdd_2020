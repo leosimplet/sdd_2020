{
 "cells": [
  {
   "cell_type": "markdown",
   "metadata": {},
   "source": [
    "## Génération de figures pour le chapitre « Estimation ponctuelle »."
   ]
  },
  {
   "cell_type": "code",
   "execution_count": null,
   "metadata": {},
   "outputs": [],
   "source": [
    "%pylab inline"
   ]
  },
  {
   "cell_type": "code",
   "execution_count": null,
   "metadata": {},
   "outputs": [],
   "source": [
    "plt.rc('font', **{'family':'sans', 'size': 18})\n",
    "\n",
    "matplotlib.rcParams.update({\n",
    "    'text.usetex': True,\n",
    "    'text.latex.preamble': [r'\\usepackage{mathptmx}',],\n",
    "    'text.latex.unicode': True,})"
   ]
  },
  {
   "cell_type": "code",
   "execution_count": null,
   "metadata": {},
   "outputs": [],
   "source": [
    "prop_cycle = plt.rcParams['axes.prop_cycle']\n",
    "def_colors = prop_cycle.by_key()['color']"
   ]
  },
  {
   "cell_type": "code",
   "execution_count": null,
   "metadata": {},
   "outputs": [],
   "source": [
    "import scipy.stats as st"
   ]
  },
  {
   "cell_type": "markdown",
   "metadata": {},
   "source": [
    "### Biais/variance"
   ]
  },
  {
   "cell_type": "code",
   "execution_count": null,
   "metadata": {},
   "outputs": [],
   "source": [
    "xxx = np.linspace(-5, 5, 500)"
   ]
  },
  {
   "cell_type": "code",
   "execution_count": null,
   "metadata": {},
   "outputs": [],
   "source": [
    "y = st.norm.pdf(xxx, 0, 1.)"
   ]
  },
  {
   "cell_type": "code",
   "execution_count": null,
   "metadata": {},
   "outputs": [],
   "source": [
    "y1 = st.norm.pdf(xxx, 1., 1.)"
   ]
  },
  {
   "cell_type": "code",
   "execution_count": null,
   "metadata": {},
   "outputs": [],
   "source": [
    "y2 = st.norm.pdf(xxx, 0, 1.5)"
   ]
  },
  {
   "cell_type": "code",
   "execution_count": null,
   "metadata": {},
   "outputs": [],
   "source": [
    "fig = plt.figure(figsize=(6, 4))\n",
    "plt.plot(xxx, y, lw=3, label=r'$\\Theta$')\n",
    "plt.plot(xxx, y1, ls='--', lw=3, label=r'$\\Theta^\\prime$')\n",
    "plt.plot(xxx, y2, ls='-.', lw=3, label=r'$\\Theta^{\\prime\\prime}$')\n",
    "plt.plot([0, 0], [0., 0.42], 'k')\n",
    "plt.plot([1., 1.], [0, 0.42], 'k--')\n",
    "\n",
    "t = plt.xticks([0, 1], [r'$\\theta$', r'$\\theta+\\epsilon$'])\n",
    "t = plt.yticks([], [])\n",
    "plt.legend()\n",
    "plt.savefig('../poly/figures/estimation/biais_variance.pdf', bbox_inches='tight')"
   ]
  },
  {
   "cell_type": "markdown",
   "metadata": {},
   "source": [
    "### Estimation de Bayes"
   ]
  },
  {
   "cell_type": "code",
   "execution_count": null,
   "metadata": {},
   "outputs": [],
   "source": [
    "n = 30\n",
    "b = 27\n",
    "p = float(b)/n"
   ]
  },
  {
   "cell_type": "code",
   "execution_count": null,
   "metadata": {},
   "outputs": [],
   "source": [
    "print(\"MLE estimate: p = %.2f\" % p)"
   ]
  },
  {
   "cell_type": "code",
   "execution_count": null,
   "metadata": {},
   "outputs": [],
   "source": [
    "beta = 2.\n",
    "alpha = 8.\n",
    "m = alpha/(alpha+beta)"
   ]
  },
  {
   "cell_type": "code",
   "execution_count": null,
   "metadata": {},
   "outputs": [],
   "source": [
    "print(\"espérance a priori: p = %.2f\" % m)"
   ]
  },
  {
   "cell_type": "code",
   "execution_count": null,
   "metadata": {},
   "outputs": [],
   "source": [
    "bayes_estimate = (alpha + b)/(n + alpha + beta)\n",
    "print(\"Bayes estimate: p = %.2f\" % bayes_estimate)"
   ]
  },
  {
   "cell_type": "code",
   "execution_count": null,
   "metadata": {},
   "outputs": [],
   "source": [
    "xxx = np.linspace(0., 1.0, 500)\n",
    "y = st.beta.pdf(xxx, alpha, beta)"
   ]
  },
  {
   "cell_type": "code",
   "execution_count": null,
   "metadata": {},
   "outputs": [],
   "source": [
    "y2 = st.beta.pdf(xxx, (b+alpha), (n-b+beta))"
   ]
  },
  {
   "cell_type": "code",
   "execution_count": null,
   "metadata": {},
   "outputs": [],
   "source": [
    "plt.figure(figsize=(10, 5))\n",
    "\n",
    "plt.plot(xxx, y, lw=3, label='distribution a priori')\n",
    "\n",
    "plt.plot(xxx, y2, lw=3, ls='--', label='distribution a posteriori')\n",
    "\n",
    "plt.plot([0, 1], [0, 0], 'k')\n",
    "\n",
    "# espérance a priori\n",
    "#plt.plot([m, m], [0, np.max(y2)], c=def_colors[0], label='espérance a priori')\n",
    "plt.scatter(m, 0, s=200, marker='x', c=def_colors[0], label='espérance a priori')\n",
    "\n",
    "# MLE\n",
    "#plt.plot([p, p], [0, np.max(y2)], c=def_colors[2])\n",
    "plt.scatter(p, 0, s=200, marker='v', c=def_colors[2], label='estimation MLE')\n",
    "\n",
    "# Bayes estimate\n",
    "#plt.plot([bayes_estimate, bayes_estimate], [0, np.max(y2)], c=def_colors[1])\n",
    "plt.scatter(bayes_estimate, 0, s=200, marker='o', c=def_colors[1], label='estimation de Bayes')\n",
    "\n",
    "t=plt.xlabel(\"p\")\n",
    "plt.legend(loc=(1.1, 0.2))\n",
    "\n",
    "plt.savefig('../poly/figures/estimation/bayes_estimate.pdf', bbox_inches='tight')"
   ]
  },
  {
   "cell_type": "code",
   "execution_count": null,
   "metadata": {},
   "outputs": [],
   "source": []
  },
  {
   "cell_type": "code",
   "execution_count": null,
   "metadata": {},
   "outputs": [],
   "source": []
  },
  {
   "cell_type": "code",
   "execution_count": null,
   "metadata": {},
   "outputs": [],
   "source": []
  }
 ],
 "metadata": {
  "kernelspec": {
   "display_name": "Python 3",
   "language": "python",
   "name": "python3"
  },
  "language_info": {
   "codemirror_mode": {
    "name": "ipython",
    "version": 3
   },
   "file_extension": ".py",
   "mimetype": "text/x-python",
   "name": "python",
   "nbconvert_exporter": "python",
   "pygments_lexer": "ipython3",
   "version": "3.7.7"
  }
 },
 "nbformat": 4,
 "nbformat_minor": 4
}
