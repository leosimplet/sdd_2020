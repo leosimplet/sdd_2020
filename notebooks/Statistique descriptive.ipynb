{
 "cells": [
  {
   "cell_type": "markdown",
   "metadata": {},
   "source": [
    "## Génération de figures pour le chapitre « Statistique descriptive »."
   ]
  },
  {
   "cell_type": "code",
   "execution_count": null,
   "metadata": {},
   "outputs": [],
   "source": [
    "%pylab inline"
   ]
  },
  {
   "cell_type": "code",
   "execution_count": null,
   "metadata": {},
   "outputs": [],
   "source": [
    "plt.rc('font', **{'family':'sans', 'size': 20})\n",
    "\n",
    "matplotlib.rcParams.update({\n",
    "    'text.usetex': True,\n",
    "    'text.latex.preamble': [r'\\usepackage{mathptmx}',]})"
   ]
  },
  {
   "cell_type": "code",
   "execution_count": null,
   "metadata": {},
   "outputs": [],
   "source": [
    "import pandas as pd"
   ]
  },
  {
   "cell_type": "code",
   "execution_count": null,
   "metadata": {},
   "outputs": [],
   "source": [
    "import scipy.stats as st"
   ]
  },
  {
   "cell_type": "code",
   "execution_count": null,
   "metadata": {},
   "outputs": [],
   "source": [
    "import re"
   ]
  },
  {
   "cell_type": "markdown",
   "metadata": {},
   "source": [
    "## Données de remboursement"
   ]
  },
  {
   "cell_type": "code",
   "execution_count": null,
   "metadata": {},
   "outputs": [],
   "source": [
    "df = pd.read_csv('../data/OPEN_BIO_2018_7325.csv')"
   ]
  },
  {
   "cell_type": "code",
   "execution_count": null,
   "metadata": {},
   "outputs": [],
   "source": [
    "len(df)"
   ]
  },
  {
   "cell_type": "code",
   "execution_count": null,
   "metadata": {},
   "outputs": [],
   "source": [
    "df.head()"
   ]
  },
  {
   "cell_type": "markdown",
   "metadata": {},
   "source": [
    "### Création d'un sous-échantillon"
   ]
  },
  {
   "cell_type": "code",
   "execution_count": null,
   "metadata": {},
   "outputs": [],
   "source": [
    "# indices = np.random.permutation(len(df))[:20]\n",
    "# indices.sort()\n",
    "# indices\n",
    "indices = np.array([ 35,  54,  91,  97, 100, 120, 130, 159, 168, 176, 195, 289, 329, 388, 404, 424, 499, 504, 536, 555])"
   ]
  },
  {
   "cell_type": "code",
   "execution_count": null,
   "metadata": {},
   "outputs": [],
   "source": [
    "df_small = df.iloc[indices]"
   ]
  },
  {
   "cell_type": "code",
   "execution_count": null,
   "metadata": {},
   "outputs": [],
   "source": [
    "print(df_small)"
   ]
  },
  {
   "cell_type": "code",
   "execution_count": null,
   "metadata": {},
   "outputs": [],
   "source": [
    "latex_str = df_small.to_string(header=False,index=False)"
   ]
  },
  {
   "cell_type": "code",
   "execution_count": null,
   "metadata": {},
   "outputs": [],
   "source": [
    "latex_str = re.sub(' +', ' & ', latex_str)"
   ]
  },
  {
   "cell_type": "code",
   "execution_count": null,
   "metadata": {},
   "outputs": [],
   "source": [
    "latex_str"
   ]
  },
  {
   "cell_type": "code",
   "execution_count": null,
   "metadata": {},
   "outputs": [],
   "source": [
    "latex_str = re.sub('\\n &', '\\\\ \\n', latex_str)"
   ]
  },
  {
   "cell_type": "code",
   "execution_count": null,
   "metadata": {},
   "outputs": [],
   "source": [
    "latex_str.replace('\\t', ';')"
   ]
  },
  {
   "cell_type": "markdown",
   "metadata": {},
   "source": [
    "### Tables de fréquences (small dataset)"
   ]
  },
  {
   "cell_type": "code",
   "execution_count": null,
   "metadata": {},
   "outputs": [],
   "source": [
    "regions = unique(df_small['BEN_REG'])\n",
    "ages = unique(df_small['AGE'])"
   ]
  },
  {
   "cell_type": "code",
   "execution_count": null,
   "metadata": {},
   "outputs": [],
   "source": [
    "counts = [len(np.where(df_small['AGE']==class_idx)[0]) for class_idx in ages]"
   ]
  },
  {
   "cell_type": "code",
   "execution_count": null,
   "metadata": {},
   "outputs": [],
   "source": [
    "frequencies = [float(count)/len(df_small) for count in counts]"
   ]
  },
  {
   "cell_type": "code",
   "execution_count": null,
   "metadata": {},
   "outputs": [],
   "source": [
    "print(['%.2f' % freq for freq in frequencies])"
   ]
  },
  {
   "cell_type": "code",
   "execution_count": null,
   "metadata": {},
   "outputs": [],
   "source": [
    "['%.2f' % freq for freq in [float(len(np.where(df_small['AGE']==class_idx)[0]))/(len(df_small)) \\\n",
    "                                for class_idx in ages]]"
   ]
  },
  {
   "cell_type": "code",
   "execution_count": null,
   "metadata": {},
   "outputs": [],
   "source": [
    "['%.2f' % freq for freq in [float(len(np.where(df['AGE']==class_idx)[0]))/(len(df)) \\\n",
    "                                for class_idx in ages]]"
   ]
  },
  {
   "cell_type": "code",
   "execution_count": null,
   "metadata": {},
   "outputs": [],
   "source": [
    "plt.bar(range(len(ages)), frequencies, width=0.5, tick_label=['20 ­ 39', '40 ­ 59', '60+'])\n",
    "plt.xlabel(\"Tranche d'âge\")\n",
    "plt.ylabel(\"Fréquence\")\n",
    "#plt.savefig('../poly/figures/stats/remboursement_age_bars.png', bbox_inches='tight')"
   ]
  },
  {
   "cell_type": "markdown",
   "metadata": {},
   "source": [
    "### Tables de fréquences (full dataset)"
   ]
  },
  {
   "cell_type": "code",
   "execution_count": null,
   "metadata": {},
   "outputs": [],
   "source": [
    "regions = unique(df['BEN_REG'])\n",
    "ages = unique(df['AGE'])"
   ]
  },
  {
   "cell_type": "code",
   "execution_count": null,
   "metadata": {},
   "outputs": [],
   "source": [
    "df = df[df['BEN_REG']!=99]"
   ]
  },
  {
   "cell_type": "code",
   "execution_count": null,
   "metadata": {},
   "outputs": [],
   "source": [
    "regions = unique(df['BEN_REG'])\n",
    "ages = unique(df['AGE'])"
   ]
  },
  {
   "cell_type": "code",
   "execution_count": null,
   "metadata": {},
   "outputs": [],
   "source": [
    "counts = [len(np.where(df['AGE']==class_idx)[0]) for class_idx in ages]"
   ]
  },
  {
   "cell_type": "code",
   "execution_count": null,
   "metadata": {},
   "outputs": [],
   "source": [
    "frequencies = [float(count)/len(df) for count in counts]"
   ]
  },
  {
   "cell_type": "code",
   "execution_count": null,
   "metadata": {},
   "outputs": [],
   "source": [
    "print(['%.2f' % freq for freq in frequencies])"
   ]
  },
  {
   "cell_type": "code",
   "execution_count": null,
   "metadata": {},
   "outputs": [],
   "source": [
    "plt.bar(range(len(ages)), frequencies, width=0.5, tick_label=['0 -- 19', '20 -- 39', '40 -- 59', '60+'])\n",
    "plt.xlabel(\"Tranche d'âge\")\n",
    "plt.ylabel(\"Fréquence\")\n",
    "plt.savefig('../poly/figures/stats/remboursement_age_bars.pdf', bbox_inches='tight')"
   ]
  },
  {
   "cell_type": "markdown",
   "metadata": {},
   "source": [
    "### Montants remboursés par acte, par tranche d'âge (small dataset)"
   ]
  },
  {
   "cell_type": "code",
   "execution_count": null,
   "metadata": {},
   "outputs": [],
   "source": [
    "rem_par_acte = df_small['REM']/df_small['DNB']"
   ]
  },
  {
   "cell_type": "code",
   "execution_count": null,
   "metadata": {},
   "outputs": [],
   "source": [
    "rpa_stratified = [rem_par_acte[df_small['AGE'] == age] for age in ages]"
   ]
  },
  {
   "cell_type": "code",
   "execution_count": null,
   "metadata": {},
   "outputs": [],
   "source": [
    "fig = plt.figure(figsize=(6, 4))\n",
    "plt.boxplot(rpa_stratified)\n",
    "for (ix, age) in enumerate(ages):\n",
    "    #plt.boxplot(y)\n",
    "    y = rem_par_acte[df_small['AGE'] == age]\n",
    "    x = np.random.normal((ix+1), 0.02, size=len(y))\n",
    "    plot(x, y, alpha=0.5, ms=14)\n",
    "plt.xlabel('Âge (ans)')\n",
    "plt.ylabel('Montant remboursé (EUR)')\n",
    "t=plt.xticks([1, 2, 3], ['20 ­ 39', '40 ­ 59', '60+'])\n",
    "#plt.savefig('../poly/figures/stats/remboursement_rembourses_age.png', bbox_inches='tight')"
   ]
  },
  {
   "cell_type": "code",
   "execution_count": null,
   "metadata": {},
   "outputs": [],
   "source": [
    "rpa_var = [np.std(r)**2 for r in rpa_stratified]\n",
    "rpa_len = [len(r) for r in rpa_stratified]\n",
    "sr = np.sum(np.array(rpa_len)*np.array(rpa_var))/len(df_small)\n",
    "print(\"Variance résiduelle : %.2f\" % sr)"
   ]
  },
  {
   "cell_type": "code",
   "execution_count": null,
   "metadata": {},
   "outputs": [],
   "source": [
    "rpa_dist2 = [(np.mean(r) - np.mean(rem_par_acte))**2 for r in rpa_stratified]\n",
    "se = np.sum(np.array(rpa_len)*np.array(rpa_dist2))/len(df_small)\n",
    "print(\"Variance expliquée par l'âge : %.2f\" % se)"
   ]
  },
  {
   "cell_type": "code",
   "execution_count": null,
   "metadata": {},
   "outputs": [],
   "source": [
    "print(\"Variance totale : %.2f\" % (np.std(rem_par_acte)**2))"
   ]
  },
  {
   "cell_type": "code",
   "execution_count": null,
   "metadata": {},
   "outputs": [],
   "source": [
    "print(\"Rapport de corrélation : %.2f\" % (se/np.std(rem_par_acte)**2))"
   ]
  },
  {
   "cell_type": "markdown",
   "metadata": {},
   "source": [
    "### Montants remboursés par acte, par tranche d'âge (full dataset)"
   ]
  },
  {
   "cell_type": "code",
   "execution_count": null,
   "metadata": {},
   "outputs": [],
   "source": [
    "rem_par_acte = df['REM']/df['DNB']"
   ]
  },
  {
   "cell_type": "code",
   "execution_count": null,
   "metadata": {},
   "outputs": [],
   "source": [
    "rpa_stratified = [rem_par_acte[df['AGE'] == age] for age in ages]"
   ]
  },
  {
   "cell_type": "code",
   "execution_count": null,
   "metadata": {},
   "outputs": [],
   "source": [
    "fig = plt.figure(figsize=(6, 4))\n",
    "plt.boxplot(rpa_stratified)\n",
    "for (ix, age) in enumerate(ages):\n",
    "    #plt.boxplot(y)\n",
    "    y = rem_par_acte[df['AGE'] == age]\n",
    "    x = np.random.normal((ix+1), 0.02, size=len(y))\n",
    "    plt.scatter(x, y, alpha=0.7)\n",
    "plt.xlabel('Âge (ans)')\n",
    "plt.ylabel('Montant remboursé (EUR)')\n",
    "t=plt.xticks([1, 2, 3, 4], ['10 -- 19', '20 -- 39', '40 -- 59', '60+'])\n",
    "plt.savefig('../poly/figures/stats/remboursement_rembourses_age.pdf', bbox_inches='tight')"
   ]
  },
  {
   "cell_type": "code",
   "execution_count": null,
   "metadata": {},
   "outputs": [],
   "source": [
    "rpa_var = [np.std(r)**2 for r in rpa_stratified]\n",
    "rpa_len = [len(r) for r in rpa_stratified]\n",
    "sr = np.sum(np.array(rpa_len)*np.array(rpa_var))/len(df)\n",
    "print(\"Variance résiduelle : %.2f\" % sr)"
   ]
  },
  {
   "cell_type": "code",
   "execution_count": null,
   "metadata": {},
   "outputs": [],
   "source": [
    "rpa_dist2 = [(np.mean(r) - np.mean(rem_par_acte))**2 for r in rpa_stratified]\n",
    "se = np.sum(np.array(rpa_len)*np.array(rpa_dist2))/len(df)\n",
    "print(\"Variance expliquée par l'âge : %.2f\" % se)"
   ]
  },
  {
   "cell_type": "code",
   "execution_count": null,
   "metadata": {},
   "outputs": [],
   "source": [
    "print(\"Variance totale : %.2f\" % (np.std(rem_par_acte)**2))"
   ]
  },
  {
   "cell_type": "code",
   "execution_count": null,
   "metadata": {},
   "outputs": [],
   "source": [
    "print(\"Rapport de corrélation : %.2f\" % (se/np.std(rem_par_acte)**2))"
   ]
  },
  {
   "cell_type": "markdown",
   "metadata": {},
   "source": [
    "### Contingence et barres empilées (small dataset)"
   ]
  },
  {
   "cell_type": "code",
   "execution_count": null,
   "metadata": {},
   "outputs": [],
   "source": [
    "df_small[(df_small['BEN_REG'] == 32) & (df_small['AGE'] == 40)] "
   ]
  },
  {
   "cell_type": "code",
   "execution_count": null,
   "metadata": {},
   "outputs": [],
   "source": [
    "contingence = [[len(df_small[(df_small['BEN_REG'] == reg) & (df_small['AGE'] == age)]) \\\n",
    "                for reg in regions] for age in ages]"
   ]
  },
  {
   "cell_type": "code",
   "execution_count": null,
   "metadata": {},
   "outputs": [],
   "source": [
    "contingence"
   ]
  },
  {
   "cell_type": "code",
   "execution_count": null,
   "metadata": {},
   "outputs": [],
   "source": [
    "n_tot = np.sum(contingence)\n",
    "n_tot"
   ]
  },
  {
   "cell_type": "code",
   "execution_count": null,
   "metadata": {},
   "outputs": [],
   "source": [
    "n_col = np.sum(contingence, axis=0)\n",
    "n_col"
   ]
  },
  {
   "cell_type": "code",
   "execution_count": null,
   "metadata": {},
   "outputs": [],
   "source": [
    "n_lig = np.sum(contingence, axis=1)\n",
    "n_lig"
   ]
  },
  {
   "cell_type": "code",
   "execution_count": null,
   "metadata": {},
   "outputs": [],
   "source": [
    "n_col = n_col.reshape((len(n_col), 1))\n",
    "n_lig = n_lig.reshape((len(n_lig), 1))"
   ]
  },
  {
   "cell_type": "code",
   "execution_count": null,
   "metadata": {},
   "outputs": [],
   "source": [
    "expected = n_lig.dot(n_col.T)/(n_tot)\n",
    "np.sum((contingence - expected)**2/expected)"
   ]
  },
  {
   "cell_type": "code",
   "execution_count": null,
   "metadata": {},
   "outputs": [],
   "source": [
    "regions_dict = {5: \"Régions et Départements d’outre-mer\",\n",
    "                11: \"Ile-de-France\",\n",
    "                24: \"Centre-Val de Loire\",\n",
    "                27: \"Bourgogne-Franche-Comté\",\n",
    "                32: \"Hauts-de-France\",\n",
    "                44: \"Grand-Est\",\n",
    "                75: \"Nouvelle-Aquitaine\",\n",
    "                76: \"Occitanie\",\n",
    "                84: \"Auvergne-Rhône-Alpes\",\n",
    "                93: \"Provence-Alpes-Côte d’Azur et Corse\"}"
   ]
  },
  {
   "cell_type": "code",
   "execution_count": null,
   "metadata": {},
   "outputs": [],
   "source": [
    "age_ranges = ['20 ­ 39', '40 ­ 59', '60+']\n",
    "labels = [regions_dict[r] for r in regions]\n",
    "# Percentage of individuals in this age range within each region\n",
    "profils_lig = np.array(contingence)/np.repeat(n_col.T, 3, axis=0)\n",
    "previous_profile = np.zeros((len(labels), ))\n",
    "for age_idx, profile in enumerate(profils_lig):\n",
    "    # print(profile)\n",
    "    plt.barh(labels, profile, height=0.75, left=previous_profile, label=age_ranges[age_idx])\n",
    "    previous_profile += profile\n",
    "plt.yticks(fontsize=12)\n",
    "plt.legend(title=\"Âge\", loc=(1.01, 0.5), frameon=False)\n",
    "plt.ylabel(\"Région\")\n",
    "#plt.savefig('../poly/figures/stats/remboursement_age_region_cols.png', bbox_inches='tight')"
   ]
  },
  {
   "cell_type": "code",
   "execution_count": null,
   "metadata": {},
   "outputs": [],
   "source": [
    "labels = ['20 ­ 39', '40 ­ 59', '60+']\n",
    "region_names = [regions_dict[r] for r in regions]\n",
    "\n",
    "profils_col = np.array(contingence)/np.repeat(n_lig, 10, axis=1)\n",
    "previous_profile = np.zeros((len(labels), ))\n",
    "for r_idx, profile in enumerate(profils_col.T):\n",
    "    plt.bar(labels, profile, width=0.75, bottom=previous_profile, label=region_names[r_idx])\n",
    "    previous_profile += profile\n",
    "\n",
    "plt.legend(title=\"Région\", loc=(1.01, 0.01), frameon=False, fontsize=12)\n",
    "plt.xlabel(\"Âge\")\n",
    "#plt.savefig('../poly/figures/stats/remboursement_age_region_lines.png', bbox_inches='tight')"
   ]
  },
  {
   "cell_type": "markdown",
   "metadata": {},
   "source": [
    "### Contingence et barres empilées (full dataset)"
   ]
  },
  {
   "cell_type": "code",
   "execution_count": null,
   "metadata": {},
   "outputs": [],
   "source": [
    "contingence = [[len(df[(df['BEN_REG'] == reg) & (df['AGE'] == age)]) \\\n",
    "                for reg in regions] for age in ages]"
   ]
  },
  {
   "cell_type": "code",
   "execution_count": null,
   "metadata": {},
   "outputs": [],
   "source": [
    "regions"
   ]
  },
  {
   "cell_type": "code",
   "execution_count": null,
   "metadata": {},
   "outputs": [],
   "source": [
    "contingence"
   ]
  },
  {
   "cell_type": "code",
   "execution_count": null,
   "metadata": {},
   "outputs": [],
   "source": [
    "n_tot = np.sum(contingence)\n",
    "n_tot"
   ]
  },
  {
   "cell_type": "code",
   "execution_count": null,
   "metadata": {},
   "outputs": [],
   "source": [
    "n_col = np.sum(contingence, axis=0)\n",
    "n_col"
   ]
  },
  {
   "cell_type": "code",
   "execution_count": null,
   "metadata": {},
   "outputs": [],
   "source": [
    "n_lig = np.sum(contingence, axis=1)\n",
    "n_lig"
   ]
  },
  {
   "cell_type": "code",
   "execution_count": null,
   "metadata": {},
   "outputs": [],
   "source": [
    "n_col = n_col.reshape((len(n_col), 1))\n",
    "n_lig = n_lig.reshape((len(n_lig), 1))"
   ]
  },
  {
   "cell_type": "code",
   "execution_count": null,
   "metadata": {},
   "outputs": [],
   "source": [
    "expected = n_lig.dot(n_col.T)/(n_tot)\n",
    "np.sum((contingence - expected)**2/expected)"
   ]
  },
  {
   "cell_type": "code",
   "execution_count": null,
   "metadata": {},
   "outputs": [],
   "source": [
    "regions_dict = {5: \"DROM\",\n",
    "                11: \"Ile-de-France\",\n",
    "                24: \"Centre-Val de Loire\",\n",
    "                27: \"Bourgogne-Franche-Comté\",\n",
    "                28: \"Normandie\",\n",
    "                32: \"Hauts-de-France\",\n",
    "                44: \"Grand-Est\",\n",
    "                52: \"Pays de la Loire\",\n",
    "                53: \"Bretagne\",\n",
    "                75: \"Nouvelle-Aquitaine\",\n",
    "                76: \"Occitanie\",\n",
    "                84: \"Auvergne-Rhône-Alpes\",\n",
    "                93: \"PACA et Corse\"}"
   ]
  },
  {
   "cell_type": "code",
   "execution_count": null,
   "metadata": {},
   "outputs": [],
   "source": [
    "age_ranges = ['0 -- 19', '20 -- 39', '40 -- 59', '60+']\n",
    "labels = [regions_dict[r] for r in regions]\n",
    "# Percentage of individuals in this age range within each region\n",
    "profils_lig = np.array(contingence)/np.repeat(n_col.T, len(ages), axis=0)\n",
    "previous_profile = np.zeros((len(labels), ))\n",
    "for age_idx, profile in enumerate(profils_lig):\n",
    "    plt.barh(labels, profile, height=0.9, left=previous_profile, label=age_ranges[age_idx])\n",
    "    previous_profile += profile\n",
    "plt.yticks(fontsize=16)\n",
    "plt.legend(title=\"Âge\", loc=(1.01, 0.3), frameon=False)\n",
    "plt.ylabel(\"Région\")\n",
    "plt.savefig('../poly/figures/stats/remboursement_age_region_cols.pdf', bbox_inches='tight')"
   ]
  },
  {
   "cell_type": "code",
   "execution_count": null,
   "metadata": {},
   "outputs": [],
   "source": [
    "age_ranges = ['0 -- 19', '20 -- 39', '40 -- 59', '60+']\n",
    "region_names = [regions_dict[r] for r in regions]\n",
    "\n",
    "profils_col = np.array(contingence)/np.repeat(n_lig, len(regions), axis=1)\n",
    "previous_profile = np.zeros((len(age_ranges), ))\n",
    "for r_idx, profile in enumerate(profils_col.T):\n",
    "    plt.bar(age_ranges, profile, width=0.75, bottom=previous_profile, label=region_names[r_idx])\n",
    "    previous_profile += profile\n",
    "plt.legend(title=\"Région\", loc=(1.01, -0.1), frameon=False, ncol=2)\n",
    "plt.xlabel(\"Âge\")\n",
    "plt.savefig('../poly/figures/stats/remboursement_age_region_lines.pdf', bbox_inches='tight')"
   ]
  },
  {
   "cell_type": "markdown",
   "metadata": {},
   "source": [
    "## Données météo"
   ]
  },
  {
   "cell_type": "code",
   "execution_count": null,
   "metadata": {},
   "outputs": [],
   "source": [
    "meteo = pd.read_csv('../data/meteo_data.csv')"
   ]
  },
  {
   "cell_type": "code",
   "execution_count": null,
   "metadata": {},
   "outputs": [],
   "source": [
    "meteo.head()"
   ]
  },
  {
   "cell_type": "code",
   "execution_count": null,
   "metadata": {},
   "outputs": [],
   "source": [
    "t_min = meteo['t_min']"
   ]
  },
  {
   "cell_type": "markdown",
   "metadata": {},
   "source": [
    "### Transformation en série classée"
   ]
  },
  {
   "cell_type": "code",
   "execution_count": null,
   "metadata": {},
   "outputs": [],
   "source": [
    "num_classes = int(1 + np.log2(len(t_min)))"
   ]
  },
  {
   "cell_type": "code",
   "execution_count": null,
   "metadata": {},
   "outputs": [],
   "source": [
    "print('%d classes' % num_classes)"
   ]
  },
  {
   "cell_type": "code",
   "execution_count": null,
   "metadata": {},
   "outputs": [],
   "source": [
    "interval_width = (np.max(t_min) - np.min(t_min))/num_classes"
   ]
  },
  {
   "cell_type": "code",
   "execution_count": null,
   "metadata": {},
   "outputs": [],
   "source": [
    "thresholds = [np.min(t_min) + i*interval_width for i in range(num_classes)]\n",
    "thresholds.append(np.max(t_min))\n",
    "thresholds[0] = np.min(t_min) - 0.1"
   ]
  },
  {
   "cell_type": "code",
   "execution_count": null,
   "metadata": {},
   "outputs": [],
   "source": [
    "print(['%.1f' % x for x in thresholds])"
   ]
  },
  {
   "cell_type": "code",
   "execution_count": null,
   "metadata": {},
   "outputs": [],
   "source": [
    "interval_width"
   ]
  },
  {
   "cell_type": "code",
   "execution_count": null,
   "metadata": {},
   "outputs": [],
   "source": [
    "bin_assignment = pd.cut(t_min, bins=thresholds, labels=range(num_classes))"
   ]
  },
  {
   "cell_type": "code",
   "execution_count": null,
   "metadata": {},
   "outputs": [],
   "source": [
    "counts = [len(np.where(bin_assignment==class_idx)[0]) for class_idx in range(num_classes)]"
   ]
  },
  {
   "cell_type": "code",
   "execution_count": null,
   "metadata": {},
   "outputs": [],
   "source": [
    "frequencies = [float(count)/len(t_min) for count in counts]"
   ]
  },
  {
   "cell_type": "code",
   "execution_count": null,
   "metadata": {},
   "outputs": [],
   "source": [
    "print(['%.2f' % freq for freq in frequencies])"
   ]
  },
  {
   "cell_type": "markdown",
   "metadata": {},
   "source": [
    "### Histogramme"
   ]
  },
  {
   "cell_type": "code",
   "execution_count": null,
   "metadata": {},
   "outputs": [],
   "source": [
    "t = plt.hist(t_min, bins=10, density=True)\n",
    "plt.xlabel('T min (degrés C)')\n",
    "plt.ylabel('Fréquence')\n",
    "plt.savefig('../poly/figures/stats/meteo_tmin_hist.pdf', bbox_inches='tight')"
   ]
  },
  {
   "cell_type": "code",
   "execution_count": null,
   "metadata": {},
   "outputs": [],
   "source": [
    "(y_hist, x_hist, t) = plt.hist(t_min, bins=5, density=True, cumulative=True, histtype='step')"
   ]
  },
  {
   "cell_type": "code",
   "execution_count": null,
   "metadata": {},
   "outputs": [],
   "source": [
    "x_hist, y_hist"
   ]
  },
  {
   "cell_type": "code",
   "execution_count": null,
   "metadata": {},
   "outputs": [],
   "source": [
    "y_increasing = [0.]\n",
    "y_increasing.extend(y_hist)"
   ]
  },
  {
   "cell_type": "code",
   "execution_count": null,
   "metadata": {},
   "outputs": [],
   "source": [
    "y_decreasing = [1.]\n",
    "y_decreasing.extend(1.-y_hist)"
   ]
  },
  {
   "cell_type": "code",
   "execution_count": null,
   "metadata": {},
   "outputs": [],
   "source": [
    "plt.plot(x_hist, y_increasing, marker='o', label='fréquences croissantes')\n",
    "plt.plot(x_hist, y_decreasing, marker='o', label='fréquences décroissantes')\n",
    "plt.legend(loc=(1.1, 0.4))\n",
    "plt.xlabel('T min (degrés C)')\n",
    "plt.ylabel('Fréquence')\n",
    "plt.savefig('../poly/figures/stats/meteo_tmin_cumul_freq.pdf', bbox_inches='tight')"
   ]
  },
  {
   "cell_type": "markdown",
   "metadata": {},
   "source": [
    "### Indicateurs univariés"
   ]
  },
  {
   "cell_type": "code",
   "execution_count": null,
   "metadata": {},
   "outputs": [],
   "source": [
    "np.mean(t_min)"
   ]
  },
  {
   "cell_type": "code",
   "execution_count": null,
   "metadata": {},
   "outputs": [],
   "source": [
    "np.median(t_min)"
   ]
  },
  {
   "cell_type": "code",
   "execution_count": null,
   "metadata": {},
   "outputs": [],
   "source": [
    "np.mean((t_min-np.mean(t_min))**2)"
   ]
  },
  {
   "cell_type": "code",
   "execution_count": null,
   "metadata": {},
   "outputs": [],
   "source": [
    "np.mean((t_min-np.mean(t_min))**2)*len(t_min)/(len(t_min)-1)"
   ]
  },
  {
   "cell_type": "code",
   "execution_count": null,
   "metadata": {},
   "outputs": [],
   "source": [
    "np.sqrt(np.mean((t_min-np.mean(t_min))**2))"
   ]
  },
  {
   "cell_type": "code",
   "execution_count": null,
   "metadata": {},
   "outputs": [],
   "source": [
    "np.sqrt(np.mean((t_min-np.mean(t_min))**2)*len(t_min)/(len(t_min)-1))"
   ]
  },
  {
   "cell_type": "code",
   "execution_count": null,
   "metadata": {},
   "outputs": [],
   "source": [
    "np.quantile(t_min, [0.25, 0.50, 0.75])"
   ]
  },
  {
   "cell_type": "code",
   "execution_count": null,
   "metadata": {},
   "outputs": [],
   "source": [
    "np.median(t_min)"
   ]
  },
  {
   "cell_type": "markdown",
   "metadata": {},
   "source": [
    "### Boxplot"
   ]
  },
  {
   "cell_type": "code",
   "execution_count": null,
   "metadata": {},
   "outputs": [],
   "source": [
    "plt.boxplot(t_min)\n",
    "x = np.random.normal(1, 0.02, size=len(t_min))\n",
    "plt.scatter(x, t_min, alpha=0.7)\n",
    "plt.ylabel('T min (degrés C)')\n",
    "plt.xticks([], [''])\n",
    "plt.yticks(np.arange(-3, 12, 3))\n",
    "plt.savefig('../poly/figures/stats/meteo_tmin_boxplot.pdf', bbox_inches='tight')"
   ]
  },
  {
   "cell_type": "markdown",
   "metadata": {},
   "source": [
    "### Scatterplots"
   ]
  },
  {
   "cell_type": "code",
   "execution_count": null,
   "metadata": {},
   "outputs": [],
   "source": [
    "t_max = meteo['t_max']"
   ]
  },
  {
   "cell_type": "code",
   "execution_count": null,
   "metadata": {},
   "outputs": [],
   "source": [
    "fig = plt.figure(figsize=(5, 5))\n",
    "plt.scatter(t_min, t_max)\n",
    "plt.xlim([-3, 13])\n",
    "plt.ylim([-3, 13])\n",
    "plt.xticks(np.arange(-3, 12, 3))\n",
    "plt.yticks(np.arange(-3, 12, 3))\n",
    "plt.xlabel('T min (degrés C)')\n",
    "plt.ylabel('T max (degrés C)')\n",
    "plt.savefig('../poly/figures/stats/meteo_tmin_tmax.pdf', bbox_inches='tight')"
   ]
  },
  {
   "cell_type": "code",
   "execution_count": null,
   "metadata": {},
   "outputs": [],
   "source": [
    "vent = meteo['vent']"
   ]
  },
  {
   "cell_type": "code",
   "execution_count": null,
   "metadata": {},
   "outputs": [],
   "source": [
    "t_min_std = (t_min - np.mean(t_min))/np.std(t_min)\n",
    "t_max_std = (t_max - np.mean(t_max))/np.std(t_max)\n",
    "vent_std = (vent - np.mean(vent))/np.std(vent)"
   ]
  },
  {
   "cell_type": "code",
   "execution_count": null,
   "metadata": {},
   "outputs": [],
   "source": [
    "fig = plt.figure(figsize=(5, 5))\n",
    "plt.scatter(t_min_std, vent_std)\n",
    "plt.xlim([-2, 2])\n",
    "plt.ylim([-2, 2])\n",
    "plt.xticks(ticks=[-2, 0, 2])\n",
    "plt.yticks(ticks=[-2, 0, 2])\n",
    "plt.xlabel('T min (std)')\n",
    "plt.ylabel('Vent (std)')\n",
    "plt.savefig('../poly/figures/stats/meteo_tmin_vent.pdf', bbox_inches='tight')"
   ]
  },
  {
   "cell_type": "markdown",
   "metadata": {},
   "source": [
    "### Corrélations"
   ]
  },
  {
   "cell_type": "code",
   "execution_count": null,
   "metadata": {},
   "outputs": [],
   "source": [
    "print(\"Covariance(t_min, t_max) = %.2f\" % np.mean((t_min - np.mean(t_min))*(t_max - np.mean(t_max))))"
   ]
  },
  {
   "cell_type": "code",
   "execution_count": null,
   "metadata": {},
   "outputs": [],
   "source": [
    "print(\"Pearson(t_min, t_max) = %.2f\" % st.pearsonr(t_min, t_max)[0])"
   ]
  },
  {
   "cell_type": "code",
   "execution_count": null,
   "metadata": {},
   "outputs": [],
   "source": [
    "print(\"Pearson(t_min, vent) = %.2f\" % st.pearsonr(t_min, vent)[0])"
   ]
  },
  {
   "cell_type": "code",
   "execution_count": null,
   "metadata": {},
   "outputs": [],
   "source": [
    "x = np.random.random(size=(100,))"
   ]
  },
  {
   "cell_type": "code",
   "execution_count": null,
   "metadata": {},
   "outputs": [],
   "source": [
    "y =  np.random.random(size=(100,))\n",
    "print(\"r(x, y) = %.2f\" % (st.pearsonr(x, y)[0]))"
   ]
  },
  {
   "cell_type": "code",
   "execution_count": null,
   "metadata": {},
   "outputs": [],
   "source": [
    "plt.rc('font', **{'family':'sans', 'size': 26})"
   ]
  },
  {
   "cell_type": "code",
   "execution_count": null,
   "metadata": {},
   "outputs": [],
   "source": [
    "fig = plt.figure(figsize=(5, 5))\n",
    "plt.scatter(x, y)\n",
    "plt.xlim([0, 1])\n",
    "plt.ylim([0, 1])\n",
    "plt.xticks(ticks=[0., 0.25, 0.50, 0.75, 1.00])\n",
    "t=plt.yticks(ticks=[0., 0.25, 0.50, 0.75, 1.00])\n",
    "plt.xlabel('$x$')\n",
    "t=plt.ylabel('$y$')\n",
    "plt.savefig('../poly/figures/stats/pearson_0.pdf', bbox_inches='tight')\n"
   ]
  },
  {
   "cell_type": "code",
   "execution_count": null,
   "metadata": {},
   "outputs": [],
   "source": [
    "y2 = x + 0.1 * (np.random.random(size=(100,))-0.5)\n",
    "print(\"r(x, y2) = %.2f\" % (st.pearsonr(x, y2)[0]))"
   ]
  },
  {
   "cell_type": "code",
   "execution_count": null,
   "metadata": {},
   "outputs": [],
   "source": [
    "fig = plt.figure(figsize=(5, 5))\n",
    "plt.scatter(x, y2)\n",
    "plt.xlim([0, 1])\n",
    "plt.ylim([0, 1])\n",
    "plt.xticks(ticks=[0., 0.25, 0.50, 0.75, 1.00])\n",
    "t=plt.yticks(ticks=[0., 0.25, 0.50, 0.75, 1.00])\n",
    "plt.xlabel('$x$')\n",
    "t=plt.ylabel('$y$')\n",
    "plt.savefig('../poly/figures/stats/pearson_1.pdf', bbox_inches='tight')"
   ]
  },
  {
   "cell_type": "code",
   "execution_count": null,
   "metadata": {},
   "outputs": [],
   "source": [
    "y3 = x + 1.75*(np.random.random(size=(100,))-0.5)\n",
    "print(\"r(x, y3) = %.2f\" % (st.pearsonr(x, y3)[0]))"
   ]
  },
  {
   "cell_type": "code",
   "execution_count": null,
   "metadata": {},
   "outputs": [],
   "source": [
    "fig = plt.figure(figsize=(5, 5))\n",
    "plt.scatter(x, y3)\n",
    "plt.xlim([0, 1])\n",
    "plt.ylim([0, 1])\n",
    "plt.xticks(ticks=[0., 0.25, 0.50, 0.75, 1.00])\n",
    "t=plt.yticks(ticks=[0., 0.25, 0.50, 0.75, 1.00])\n",
    "plt.xlabel('$x$')\n",
    "t=plt.ylabel('$y$')\n",
    "plt.savefig('../poly/figures/stats/pearson_2.pdf', bbox_inches='tight')"
   ]
  },
  {
   "cell_type": "code",
   "execution_count": null,
   "metadata": {},
   "outputs": [],
   "source": [
    "y4 = - x + 0.08 * (np.random.random(size=(100,))-0.5)\n",
    "print(\"r(x, y4) = %.2f\" % (st.pearsonr(x, y4)[0]))"
   ]
  },
  {
   "cell_type": "code",
   "execution_count": null,
   "metadata": {},
   "outputs": [],
   "source": [
    "fig = plt.figure(figsize=(5, 5))\n",
    "plt.scatter(x, y4)\n",
    "plt.xticks(ticks=[0., 0.25, 0.50, 0.75, 1.00])\n",
    "t=plt.yticks(ticks=[-1.00, -0.75, -0.50, -0.25, 0.])\n",
    "plt.xlabel('$x$')\n",
    "t=plt.ylabel('$y$')\n",
    "plt.savefig('../poly/figures/stats/pearson_3.pdf', bbox_inches='tight')"
   ]
  },
  {
   "cell_type": "code",
   "execution_count": null,
   "metadata": {},
   "outputs": [],
   "source": []
  }
 ],
 "metadata": {
  "kernelspec": {
   "display_name": "Python 3",
   "language": "python",
   "name": "python3"
  },
  "language_info": {
   "codemirror_mode": {
    "name": "ipython",
    "version": 3
   },
   "file_extension": ".py",
   "mimetype": "text/x-python",
   "name": "python",
   "nbconvert_exporter": "python",
   "pygments_lexer": "ipython3",
   "version": "3.7.7"
  }
 },
 "nbformat": 4,
 "nbformat_minor": 4
}
